{
 "cells": [
  {
   "cell_type": "code",
   "execution_count": null,
   "id": "2cbec75b",
   "metadata": {},
   "outputs": [],
   "source": [
    "from selenium import webdriver\n",
    "from selenium.webdriver.chrome.options import Options\n",
    "from selenium.webdriver.common.by import By\n",
    "from bs4 import BeautifulSoup\n",
    "import time\n",
    "import pandas as pd\n",
    "from selenium import webdriver\n",
    "from selenium.webdriver.chrome.service import Service\n",
    "from selenium.webdriver.chrome.options import Options\n",
    "from webdriver_manager.chrome import ChromeDriverManager\n",
    "from selenium.webdriver.support import expected_conditions as EC\n",
    "from selenium.common.exceptions import NoSuchElementException,TimeoutException, StaleElementReferenceException, ElementClickInterceptedException\n",
    "from pathlib import Path\n",
    "from datetime import date"
   ]
  },
  {
   "cell_type": "markdown",
   "id": "7be20429",
   "metadata": {},
   "source": [
    "### Build Driver and Load full HTML page by click button or scroll infinity"
   ]
  },
  {
   "cell_type": "code",
   "execution_count": null,
   "id": "fa06056c",
   "metadata": {},
   "outputs": [],
   "source": [
    "class driver_to_crawl_page:\n",
    "    def __init__(self, \n",
    "                 headless: bool = True,\n",
    "                 url: str ='https://www.cheapcarco.com.au/used-vehicles-rocklea/list',\n",
    "                 element_by: str = 'xpath',\n",
    "                 elements_value: str = \"//main/*/*/*/*/*/*/*/*/*/div[contains(@class, 'flex flex-col h-full')]\"\n",
    "                 ):\n",
    "        self.url = url\n",
    "        self.headless = headless\n",
    "        self.element_by = element_by\n",
    "        self.elements_value=elements_value\n",
    "        \n",
    "    def build_driver(self) -> webdriver.Chrome:\n",
    "        chrome_options = Options()\n",
    "        if self.headless:\n",
    "            chrome_options.add_argument(\"--headless=new\")\n",
    "            chrome_options.add_argument(\"--no-sandbox\")\n",
    "            chrome_options.add_argument(\"--disable-gpu\")\n",
    "            chrome_options.add_argument(\"--window-size=1920,1080\")\n",
    "            chrome_options.add_argument(\"--disable-dev-shm-usage\")\n",
    "            driver = webdriver.Chrome(\n",
    "            service=Service(ChromeDriverManager().install()),\n",
    "            options=chrome_options\n",
    "        )\n",
    "        return driver\n",
    "    \n",
    "    def click_button (self, timeout: float = 0.5, button_path: str = '/html/body/div[1]/div/main/div/div/div/div/div[2]/button') -> webdriver:\n",
    "        driver = self.build_driver()\n",
    "        driver.get(self.url)\n",
    "\n",
    "        while True:\n",
    "            try:\n",
    "                time.sleep(timeout)\n",
    "                button = driver.find_element(by = self.element_by, value = button_path)\n",
    "                button.click()\n",
    "            except NoSuchElementException:\n",
    "                print('Crawling new products list')\n",
    "                break\n",
    "\n",
    "        products = driver.find_elements(by = self.element_by, value = self.elements_value)\n",
    "        return products\n",
    "    \n",
    "    def infinite_scroll (self, timeout: float = 0.5) -> webdriver:\n",
    "        driver = self.build_driver()\n",
    "        driver.get(self.url)\n",
    "        last_height = driver.execute_script(\"return document.body.scrollHeight\")\n",
    "        while True:\n",
    "            driver.execute_script(\"window.scrollTo(0, document.body.scrollHeight);\")\n",
    "            time.sleep(timeout)\n",
    "            driver.execute_script('window.scrollBy(0,1000)')\n",
    "            new_height = driver.execute_script('return document.body.scrollHeight')\n",
    "            print (f'{new_height} - {last_height}')\n",
    "\n",
    "            if (new_height == last_height):\n",
    "                print ('scroll done')\n",
    "                break\n",
    "            else:\n",
    "                last_height = new_height\n",
    "                \n",
    "        products = driver.find_elements(by = self.element_by, value = self.elements_value)\n",
    "        return products\n",
    "        "
   ]
  },
  {
   "cell_type": "markdown",
   "id": "520b4d45",
   "metadata": {},
   "source": [
    "## Cheapcarco"
   ]
  },
  {
   "cell_type": "code",
   "execution_count": null,
   "id": "c78a89b9",
   "metadata": {},
   "outputs": [],
   "source": [
    "driver = driver_to_crawl_page().build_driver()\n",
    "products = driver_to_crawl_page().click_button()\n"
   ]
  },
  {
   "cell_type": "markdown",
   "id": "7ad5e026",
   "metadata": {},
   "source": [
    "### Crawl website by find element"
   ]
  },
  {
   "cell_type": "code",
   "execution_count": null,
   "id": "c12050ab",
   "metadata": {},
   "outputs": [],
   "source": [
    "class WebsiteCrawling:\n",
    "\n",
    "    def __init__(self,\n",
    "                 product: webdriver,\n",
    "                 driver: webdriver.Chrome,\n",
    "                 url: str ='https://www.cheapcarco.com.au/used-vehicles-rocklea/list',\n",
    "                 elements_by: str = 'xpath'\n",
    "                 ):\n",
    "        self.url = url\n",
    "        self.driver = driver\n",
    "        self.driver.get(self.url)\n",
    "        self.elements_by = elements_by\n",
    "        self.products = product\n",
    "    \n",
    "    def get_link (self, path: str, get_attribute_part: str) -> list:\n",
    "        link = []\n",
    "        for p in self.products:\n",
    "            try:\n",
    "                l = p.find_element(by = self.elements_by, value = path)\n",
    "                link.append(l.get_attribute(get_attribute_part))\n",
    "            except NoSuchElementException:\n",
    "                link.append(None)\n",
    "                continue\n",
    "\n",
    "        return link\n",
    "    def get_text (self, path: str) -> list:\n",
    "        text = []\n",
    "        for p in self.products:\n",
    "            try:\n",
    "                t = p.find_element(by = self.elements_by, value = path)\n",
    "                text.append(t.text)\n",
    "            except NoSuchElementException:\n",
    "                text.append(None)\n",
    "                continue\n",
    "        return text"
   ]
  },
  {
   "cell_type": "code",
   "execution_count": null,
   "id": "7aaf7713",
   "metadata": {},
   "outputs": [],
   "source": [
    "name = WebsiteCrawling(products,driver).get_text('.//h5')\n",
    "link_product = WebsiteCrawling(products,driver).get_link('.//a','href')\n",
    "link_image = WebsiteCrawling(products,driver).get_link('.//a/div/img','src')\n",
    "price = WebsiteCrawling(products,driver).get_text('.//div[3]/h3')\n",
    "odo = WebsiteCrawling(products,driver).get_text('.//div[2]/div[1]/span[2]')\n",
    "cyl = WebsiteCrawling(products,driver).get_text('.//div[2]/div[2]/span[2]')\n",
    "trans = WebsiteCrawling(products,driver).get_text('.//div[2]/div[3]/span[2]')\n",
    "fuel = WebsiteCrawling(products,driver).get_text('.//div[4]/span[2]')\n"
   ]
  },
  {
   "cell_type": "code",
   "execution_count": null,
   "id": "74b114ff",
   "metadata": {},
   "outputs": [],
   "source": [
    "now = date.today()\n",
    "cheapcarco = {\n",
    "    'name':name,\n",
    "    'link_product': link_product,\n",
    "    'link_image': link_image,\n",
    "    'price':price,\n",
    "    'odometer':odo,\n",
    "    'cylinder':cyl,\n",
    "    'transmission': trans,\n",
    "    'fuel_type':fuel,\n",
    "    'last_update': now\n",
    "    }\n",
    "\n",
    "cheapcarco = pd.DataFrame(cheapcarco)\n",
    "cheapcarco.to_csv('cheapcarco.csv', index=False)"
   ]
  }
 ],
 "metadata": {
  "kernelspec": {
   "display_name": ".venv (3.12.10)",
   "language": "python",
   "name": "python3"
  },
  "language_info": {
   "codemirror_mode": {
    "name": "ipython",
    "version": 3
   },
   "file_extension": ".py",
   "mimetype": "text/x-python",
   "name": "python",
   "nbconvert_exporter": "python",
   "pygments_lexer": "ipython3",
   "version": "3.12.10"
  }
 },
 "nbformat": 4,
 "nbformat_minor": 5
}
