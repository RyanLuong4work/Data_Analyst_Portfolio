{
 "cells": [
  {
   "cell_type": "code",
   "execution_count": null,
   "id": "c4ace440",
   "metadata": {},
   "outputs": [],
   "source": [
    "import pandas as pd\n",
    "import numpy as np\n",
    "import re\n",
    "import glob"
   ]
  },
  {
   "cell_type": "markdown",
   "id": "ea7a9354",
   "metadata": {},
   "source": [
    "## Cars24"
   ]
  },
  {
   "cell_type": "code",
   "execution_count": null,
   "id": "148111ec",
   "metadata": {},
   "outputs": [],
   "source": [
    "df = pd.concat(pd.read_csv(f) for f in glob.glob('output/csv/cars24/*.csv'))\n",
    "df.head(15)"
   ]
  },
  {
   "cell_type": "code",
   "execution_count": null,
   "id": "492cbb93",
   "metadata": {},
   "outputs": [],
   "source": [
    "df.info()\n",
    "df.describe()"
   ]
  },
  {
   "cell_type": "code",
   "execution_count": null,
   "id": "de24b20b",
   "metadata": {},
   "outputs": [],
   "source": [
    "df = df.dropna()\n",
    "df = df.drop_duplicates(subset=['link_product'])"
   ]
  },
  {
   "cell_type": "code",
   "execution_count": null,
   "id": "1828a143",
   "metadata": {},
   "outputs": [],
   "source": [
    "\"\"\" change price to int\"\"\"\n",
    "df['price'] = (df['price'].str.replace(r'[\\$,]','',regex=True)).astype(int)\n",
    "\n",
    "\"\"\"add column year made\"\"\"\n",
    "df['year_made'] = df['name'].str[:4].astype(int)\n",
    "\n",
    "\"\"\" add columm car brand\"\"\"\n",
    "pattern = re.compile(r'^\\d{4}\\s+([a-zA-z]+)')\n",
    "df['brand']=df['name'].str.extract(pattern, expand = False)\n",
    "\n",
    "\"\"\" add column car name\"\"\"\n",
    "pattern = re.compile(r'^\\s*\\d{4}\\s+\\S+\\s+(.*)\\s[MY]+\\d{2}')\n",
    "df ['name'] = df['name'].str.extract(pattern, expand = False)\n",
    "\n",
    "\"\"\" change odometer to int\"\"\"\n",
    "df['odometer'] = (df['odometer'].str.replace(r'[\\s[kms]','',regex=True)).astype(int)\n",
    "for idx, rows in df['odometer'].items():\n",
    "    if rows > 0 and rows <= 20:\n",
    "        df.loc[idx, 'odometer'] = '0 - 20,000'\n",
    "    elif rows > 20 and rows <= 40:\n",
    "        df.loc[idx, 'odometer'] = '20,001 - 40,000'\n",
    "    elif rows > 40 and rows <= 60:\n",
    "        df.loc[idx, 'odometer'] = '40,001 - 60,000'\n",
    "    elif rows > 60 and rows <= 80:\n",
    "        df.loc[idx, 'odometer'] = '60,001 - 80,000'\n",
    "    elif rows > 80 and rows <= 100:\n",
    "        df.loc[idx, 'odometer'] = '80,001 - 100,000'\n",
    "    elif rows > 100 and rows <= 120:\n",
    "        df.loc[idx, 'odometer'] = '100,001 - 120,000'\n",
    "    elif rows > 120 and rows <= 140:\n",
    "        df.loc[idx, 'odometer'] = '120,001 - 140,000'\n",
    "    elif rows > 140 and rows <= 160:\n",
    "        df.loc[idx, 'odometer'] = '140,001 - 160,000'\n",
    "    elif rows > 160 and rows <= 180:\n",
    "        df.loc[idx, 'odometer'] = '160,001 - 180,000'\n",
    "    elif rows > 180 and rows <= 200:\n",
    "        df.loc[idx, 'odometer'] = '180,001 - 200,000'\n",
    "    else:\n",
    "        df.loc[idx, 'odometer'] = '200,001+'"
   ]
  }
 ],
 "metadata": {
  "kernelspec": {
   "display_name": ".venv (3.12.10)",
   "language": "python",
   "name": "python3"
  },
  "language_info": {
   "codemirror_mode": {
    "name": "ipython",
    "version": 3
   },
   "file_extension": ".py",
   "mimetype": "text/x-python",
   "name": "python",
   "nbconvert_exporter": "python",
   "pygments_lexer": "ipython3",
   "version": "3.12.10"
  }
 },
 "nbformat": 4,
 "nbformat_minor": 5
}
