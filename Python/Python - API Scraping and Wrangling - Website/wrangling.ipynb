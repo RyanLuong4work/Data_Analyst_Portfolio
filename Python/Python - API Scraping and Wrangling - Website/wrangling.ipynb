{
 "cells": [
  {
   "cell_type": "code",
   "execution_count": null,
   "id": "c4ace440",
   "metadata": {},
   "outputs": [],
   "source": [
    "import pandas as pd\n",
    "import numpy as np\n",
    "from datetime import date\n",
    "import re"
   ]
  },
  {
   "cell_type": "code",
   "execution_count": null,
   "id": "83d7b9b3",
   "metadata": {},
   "outputs": [],
   "source": [
    "df = pd.read_csv('cheapcarco.csv')\n",
    "df"
   ]
  },
  {
   "cell_type": "code",
   "execution_count": null,
   "id": "492cbb93",
   "metadata": {},
   "outputs": [],
   "source": [
    "df.info()\n",
    "\n",
    "\"\"\"\n",
    "While checking the CSV file, I found some empty rows and removed them manually.\n",
    "One car, \"2000 Toyota Estima Silver Wagon\", has no transmission type, so I set it to None.\n",
    "\"\"\""
   ]
  },
  {
   "cell_type": "code",
   "execution_count": null,
   "id": "7bce5f74",
   "metadata": {},
   "outputs": [],
   "source": [
    "\"\"\"drop duplicates\"\"\"\n",
    "df.drop_duplicates()\n",
    "\n",
    "\"\"\" change price to int\"\"\"\n",
    "df['price'] = (df['price'].str.replace(r'[\\$,]','',regex=True)).astype(int)\n",
    "\n",
    "\"\"\"add column year made\"\"\"\n",
    "df['year_made'] = df['name'].str[:4].astype(int)\n",
    "\n",
    "\"\"\" add columm car brand\"\"\"\n",
    "pattern = re.compile(r'^\\d{4}\\s+([a-zA-z]+)')\n",
    "df['brand']=df['name'].str.extract(pattern, expand = False)\n",
    "\n",
    "\"\"\" add column car name\"\"\"\n",
    "pattern = re.compile(r'^\\s*\\d{4}\\s+\\S+\\s+(.*)\\s*\\.?$')\n",
    "df ['name'] = df['name'].str.extract(pattern, expand = False)\n",
    "\n",
    "\"\"\" change odometer to int\"\"\"\n",
    "df['odometer'] = (df['odometer'].str.replace(r'[\\s[Kms,]','',regex=True)).astype(int)\n",
    "\n",
    "\"\"\" change cylinder to int\"\"\"\n",
    "df['cylinder'] = (df['cylinder'].str.replace(r'[Cylinders]+','',regex=True)).astype(int)\n"
   ]
  }
 ],
 "metadata": {
  "kernelspec": {
   "display_name": ".venv (3.12.10)",
   "language": "python",
   "name": "python3"
  },
  "language_info": {
   "codemirror_mode": {
    "name": "ipython",
    "version": 3
   },
   "file_extension": ".py",
   "mimetype": "text/x-python",
   "name": "python",
   "nbconvert_exporter": "python",
   "pygments_lexer": "ipython3",
   "version": "3.12.10"
  }
 },
 "nbformat": 4,
 "nbformat_minor": 5
}
